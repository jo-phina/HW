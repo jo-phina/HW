{
 "cells": [
  {
   "cell_type": "markdown",
   "metadata": {},
   "source": [
    "# HW 8\n",
    "\n",
    "### Deadline: 07.01.25, 23:59 Uhr"
   ]
  },
  {
   "cell_type": "code",
   "execution_count": 28,
   "metadata": {},
   "outputs": [],
   "source": [
    "# import modules\n",
    "\n",
    "from keras.datasets import mnist\n",
    "import matplotlib.pyplot as plt\n",
    "import seaborn as sns\n",
    "import numpy as np\n",
    "import sklearn\n",
    "import os\n",
    "\n",
    "import random"
   ]
  },
  {
   "cell_type": "code",
   "execution_count": null,
   "metadata": {},
   "outputs": [],
   "source": [
    "# load MNIST data set\n",
    "(x_train, y_train), (x_test, y_test) = mnist.load_data()\n",
    "assert x_train.shape == (60000, 28, 28)\n",
    "assert x_test.shape == (10000, 28, 28)\n",
    "assert y_train.shape == (60000,)\n",
    "assert y_test.shape == (10000,)\n"
   ]
  },
  {
   "cell_type": "code",
   "execution_count": 18,
   "metadata": {},
   "outputs": [
    {
     "name": "stdout",
     "output_type": "stream",
     "text": [
      "60000\n",
      "(60000,)\n"
     ]
    }
   ],
   "source": [
    "# exploration\n",
    "\n",
    "print(x_train.shape)\n",
    "print(y_train.shape)\n",
    "\n",
    "no_samples = x_train.shape[0]"
   ]
  },
  {
   "cell_type": "code",
   "execution_count": 29,
   "metadata": {},
   "outputs": [
    {
     "name": "stderr",
     "output_type": "stream",
     "text": [
      "<>:3: SyntaxWarning: invalid escape sequence '\\H'\n",
      "<>:3: SyntaxWarning: invalid escape sequence '\\H'\n",
      "C:\\Users\\josep\\AppData\\Local\\Temp\\ipykernel_3284\\2219474524.py:3: SyntaxWarning: invalid escape sequence '\\H'\n",
      "  path = '.\\HW8_plots'\n"
     ]
    }
   ],
   "source": [
    "# create folder to save plots\n",
    "\n",
    "path = '.\\HW8_plots'\n",
    "if not os.path.exists(path):\n",
    "    os.makedirs(path)"
   ]
  },
  {
   "cell_type": "markdown",
   "metadata": {},
   "source": [
    "## Task 1\n",
    "\n",
    "- plot random sample\n",
    "  - display label in title\n",
    "  - set suitable colormap\n",
    "- name five examples of activation functions"
   ]
  },
  {
   "cell_type": "code",
   "execution_count": 36,
   "metadata": {},
   "outputs": [
    {
     "data": {
      "image/png": "[encoded data removed]",
      "text/plain": [
       "<Figure size 640x480 with 1 Axes>"
      ]
     },
     "metadata": {},
     "output_type": "display_data"
    }
   ],
   "source": [
    "# plot random sample\n",
    "np.random.seed(23464631)\n",
    "\n",
    "idx = np.random.choice(no_samples)\n",
    "image = x_train[idx]\n",
    "label = y_train[idx]\n",
    "\n",
    "plt.imshow(image, cmap='binary')\n",
    "plt.title(f'label: {label}')\n",
    "plt.savefig('./HW8_plots/random_MNIST_sample.png')"
   ]
  },
  {
   "cell_type": "markdown",
   "metadata": {},
   "source": [
    "## Task 2\n",
    "\n",
    "- build CNN using `tf.keras.Sequential()` (display it using `model.summary()`)"
   ]
  },
  {
   "cell_type": "code",
   "execution_count": 37,
   "metadata": {},
   "outputs": [],
   "source": [
    "import tensorflow as tf\n",
    "from keras import layers\n",
    "\n",
    "def build_CNN():\n",
    "    pass"
   ]
  },
  {
   "cell_type": "markdown",
   "metadata": {},
   "source": [
    "## Task 3\n",
    "\n",
    "- compile model using `\"adam\", \"sparce_categorical_crossentropy\", metrics=['acc']`\n",
    "- answer questions\n",
    "  - What is *adam*?\n",
    "  - What does *sparse_categorical_crossentropy* mean?\n",
    "- Train model for 10 epochs.\n",
    "  - What does *epoch* mean?"
   ]
  },
  {
   "cell_type": "markdown",
   "metadata": {},
   "source": [
    "## Task 4\n",
    "\n",
    "- evaluate performance of CNN\n",
    "  - plot training loss over the epochs\n",
    "  - screenshot with test accuracy of my CNN"
   ]
  }
 ],
 "metadata": {
  "kernelspec": {
   "display_name": ".venv_dsss",
   "language": "python",
   "name": "python3"
  },
  "language_info": {
   "codemirror_mode": {
    "name": "ipython",
    "version": 3
   },
   "file_extension": ".py",
   "mimetype": "text/x-python",
   "name": "python",
   "nbconvert_exporter": "python",
   "pygments_lexer": "ipython3",
   "version": "3.12.6"
  }
 },
 "nbformat": 4,
 "nbformat_minor": 2
}
