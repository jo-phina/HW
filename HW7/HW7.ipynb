{
 "cells": [
  {
   "cell_type": "markdown",
   "metadata": {},
   "source": [
    "# HW 7\n",
    "\n",
    "### Deadline: 15.12.24, 23:59 Uhr"
   ]
  }
 ],
 "metadata": {
  "kernelspec": {
   "display_name": ".venv_dsss",
   "language": "python",
   "name": "python3"
  },
  "language_info": {
   "name": "python",
   "version": "3.12.6"
  }
 },
 "nbformat": 4,
 "nbformat_minor": 2
}
