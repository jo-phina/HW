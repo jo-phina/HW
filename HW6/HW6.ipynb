{
 "cells": [
  {
   "cell_type": "markdown",
   "metadata": {},
   "source": [
    "# HW 6\n",
    "\n",
    "### Deadline: 08.12.24, 23:59 Uhr"
   ]
  },
  {
   "cell_type": "code",
   "execution_count": 1,
   "metadata": {},
   "outputs": [],
   "source": [
    "import numpy as np\n",
    "import flammkuchen as fl\n",
    "from matplotlib import pyplot as plt"
   ]
  },
  {
   "cell_type": "code",
   "execution_count": null,
   "metadata": {},
   "outputs": [
    {
     "name": "stdout",
     "output_type": "stream",
     "text": [
      "ground_truth: x = 1.2230114285248028, y = 3.172476462256429, width = 19.18975507295538, height = 1.494912895018739\n",
      "predicted: x = 3.829752495520566, y = 1.570699524685456, width = 18.371431652453644, height = 2.8901173804855285\n",
      "\n",
      "ground_truth: x = 1.7293876699636834, y = 0.41062009241834174, width = 17.418929129783415, height = 9.999079347008308\n",
      "predicted: x = 3.155190599538849, y = 0.4088673657113767, width = 2.142287122113089, height = 19.281767097716713\n",
      "\n",
      "ground_truth: x = 1.6028207993507881, y = 2.176393028598242, width = 8.077340530021507, height = 7.495223961734107\n",
      "predicted: x = 1.1964658020483383, y = 0.04741312691099009, width = 7.903714147052747, height = 13.16963359653482\n",
      "\n",
      "ground_truth: x = 0.7100331694451534, y = 0.42572020100943075, width = 12.157639430217985, height = 18.450125778885468\n",
      "predicted: x = 4.869100528444855, y = 2.756905164121855, width = 9.333843146263378, height = 14.67212691628958\n",
      "\n",
      "ground_truth: x = 0.15884690823168957, y = 2.2577444798534687, width = 6.579128465658942, height = 12.04636950909922\n",
      "predicted: x = 4.63721402481483, y = 3.199605705048556, width = 15.43620101152085, height = 19.39199295545162\n",
      "\n"
     ]
    }
   ],
   "source": [
    "# load and look at rectangle_dsss.sec file\n",
    "\n",
    "rectangle_file = fl.load(\"rectangles_dsss.sec\")\n",
    "\n",
    "# rectangle_file is a dict with 2 keys: 'ground_truth' and 'predicted'. Each contains a list of 4-tuples (i.e., rectangles), \n",
    "# in the format (x_coordinate, y_coordinate, width, height).\n",
    "\n",
    "\n",
    "key1, key2 = rectangle_file.keys()\n",
    "\n",
    "# making lists with all rectangles, one for the ground_truth and one for the predictions.\n",
    "list_ground_truth = []\n",
    "list_predicted = []\n",
    "\n",
    "for i in range(5):\n",
    "    list_ground_truth.append(rectangle_file[key1][i])\n",
    "    list_predicted.append(rectangle_file[key2])\n",
    "\n",
    "    # look at some rectangles in a nice way\n",
    "    print(f'{key1}: x = {rectangle_file[key1][i][0]}, y = {rectangle_file[key1][i][1]}, width = {rectangle_file[key1][i][2]}, height = {rectangle_file[key1][i][3]}')\n",
    "    print(f'{key2}: x = {rectangle_file[key2][i][0]}, y = {rectangle_file[key2][i][1]}, width = {rectangle_file[key2][i][2]}, height = {rectangle_file[key2][i][3]}\\n')\n",
    "    i =+ 1\n"
   ]
  }
 ],
 "metadata": {
  "kernelspec": {
   "display_name": ".venv_dsss",
   "language": "python",
   "name": "python3"
  },
  "language_info": {
   "codemirror_mode": {
    "name": "ipython",
    "version": 3
   },
   "file_extension": ".py",
   "mimetype": "text/x-python",
   "name": "python",
   "nbconvert_exporter": "python",
   "pygments_lexer": "ipython3",
   "version": "3.12.6"
  }
 },
 "nbformat": 4,
 "nbformat_minor": 2
}
