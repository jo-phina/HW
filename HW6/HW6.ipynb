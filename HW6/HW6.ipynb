{
 "cells": [
  {
   "cell_type": "markdown",
   "metadata": {},
   "source": [
    "# HW 6\n",
    "\n",
    "### Deadline: 08.12.24, 23:59 Uhr"
   ]
  },
  {
   "cell_type": "code",
   "execution_count": 98,
   "metadata": {},
   "outputs": [],
   "source": [
    "import numpy as np\n",
    "import flammkuchen as fl\n",
    "from matplotlib import pyplot as plt\n",
    "import seaborn as sns"
   ]
  },
  {
   "cell_type": "code",
   "execution_count": 99,
   "metadata": {},
   "outputs": [
    {
     "name": "stdout",
     "output_type": "stream",
     "text": [
      "(np.float64(1.2230114285248028), np.float64(3.172476462256429), np.float64(19.18975507295538), np.float64(1.494912895018739))\n",
      "(np.float64(3.829752495520566), np.float64(1.570699524685456), np.float64(18.371431652453644), np.float64(2.8901173804855285))\n",
      "100\n",
      "100\n"
     ]
    }
   ],
   "source": [
    "# load and look at rectangle_dsss.sec file\n",
    "\n",
    "rectangle_file = fl.load(\"rectangles_dsss.sec\")\n",
    "\n",
    "# rectangle_file is a dict with 2 keys: 'ground_truth' and 'predicted'. Each contains a list of 4-tuples (i.e., rectangles), \n",
    "# in the format (x_coordinate, y_coordinate, width, height).\n",
    "\n",
    "\n",
    "key1, key2 = rectangle_file.keys()\n",
    "\n",
    "# making lists with all rectangles, one for the ground_truth and one for the predictions.\n",
    "list_ground_truth = []\n",
    "list_predicted = []\n",
    "\n",
    "for i in range(len(rectangle_file[key1])):\n",
    "    list_ground_truth.append(rectangle_file[key1][i])\n",
    "    list_predicted.append(rectangle_file[key2][i])\n",
    "    # print(list_ground_truth)\n",
    "    # print(list_predicted)\n",
    "\n",
    "    # look at some rectangles in a nice way\n",
    "    # print(f'{key1}: x = {rectangle_file[key1][i][0]}, y = {rectangle_file[key1][i][1]}, width = {rectangle_file[key1][i][2]}, height = {rectangle_file[key1][i][3]}')\n",
    "    # print(f'{key2}: x = {rectangle_file[key2][i][0]}, y = {rectangle_file[key2][i][1]}, width = {rectangle_file[key2][i][2]}, height = {rectangle_file[key2][i][3]}\\n')\n",
    "    i =+ 1\n",
    "\n",
    "print(list_ground_truth[0])\n",
    "print(list_predicted[0])\n",
    "print(len(list_predicted))\n",
    "print(len(list_ground_truth))"
   ]
  },
  {
   "cell_type": "code",
   "execution_count": null,
   "metadata": {},
   "outputs": [
    {
     "name": "stdout",
     "output_type": "stream",
     "text": [
      "0.15178571428571427\n"
     ]
    }
   ],
   "source": [
    "# implement IoU score\n",
    "\n",
    "# I am assuming, that the coordinates x and y define the position of the bottom left corner of each rectangle.\n",
    "# The width is the expansion in the x-direction to the right and the height the expansion in y-direction going up.\n",
    "\n",
    "rect1 = (1, 3, 19, 1.5)\n",
    "rect2 = (3, 1.5, 18, 2)\n",
    "\n",
    "zero1 = (2, 2, 1, 0)\n",
    "zero2 = (1, 2, 0, 0)\n",
    "\n",
    "def calc_intersection(rect1, rect2):\n",
    "    x_left   = np.max((rect1[0], rect2[0]), axis=0)\n",
    "    x_right  = np.min((rect1[0] + rect1[2], rect2[0] + rect2[2]), axis=0)\n",
    "    y_bottom = np.max((rect1[1], rect2[1]), axis=0)\n",
    "    y_top    = np.min((rect1[1] + rect1[3], rect2[1] + rect2[3]), axis=0)\n",
    "\n",
    "    if x_left > x_right or y_bottom > y_top:    # no intersection\n",
    "        return 0\n",
    "    else: \n",
    "        return calc_rect_arec(x_left, x_right, y_bottom, y_top)\n",
    "\n",
    "\n",
    "def calc_union(rect1, rect2):\n",
    "    width_1, height_1 = rect1[2], rect1[3]\n",
    "    width_2, height_2 = rect2[2], rect2[3]\n",
    "\n",
    "    return width_1 * height_1 + width_2 * height_2 - calc_intersection(rect1, rect2)\n",
    "\n",
    "\n",
    "def calc_rect_arec(x_left, x_right, y_bottom, y_top):\n",
    "\n",
    "    return (x_right - x_left) * (y_top - y_bottom)\n",
    "\n",
    "\n",
    "def calc_iou(rect1, rect2):\n",
    "    union = calc_union(rect1, rect2)\n",
    "    intersection = calc_intersection(rect1, rect2)\n",
    "\n",
    "    if union > 0:\n",
    "        return intersection / union\n",
    "    else:\n",
    "        print('The area of the union of the rectangles is 0. The IoU-score is set to 0.')\n",
    "        return 0\n",
    "\n",
    "print(calc_iou(rect1, rect2))"
   ]
  },
  {
   "cell_type": "code",
   "execution_count": 117,
   "metadata": {},
   "outputs": [
    {
     "data": {
      "image/png": "[encoded data removed]",
      "text/plain": [
       "<Figure size 640x480 with 1 Axes>"
      ]
     },
     "metadata": {},
     "output_type": "display_data"
    }
   ],
   "source": [
    "# plot histogram of IoU scores\n",
    "\n",
    "iou_scores = []\n",
    "\n",
    "for index in range(len(list_ground_truth)):\n",
    "    iou_scores.append(calc_iou(list_ground_truth[index], list_predicted[index]))\n",
    "\n",
    "\n",
    "plt.hist(iou_scores, bins=70)\n",
    "plt.xlabel('IoU')\n",
    "plt.ylabel('Number of rectangles')\n",
    "plt.title('Distribution of IoU scores')\n",
    "plt.savefig('plot_HW6_IoU_distrib.png')\n",
    "plt.show()"
   ]
  }
 ],
 "metadata": {
  "kernelspec": {
   "display_name": ".venv_dsss",
   "language": "python",
   "name": "python3"
  },
  "language_info": {
   "codemirror_mode": {
    "name": "ipython",
    "version": 3
   },
   "file_extension": ".py",
   "mimetype": "text/x-python",
   "name": "python",
   "nbconvert_exporter": "python",
   "pygments_lexer": "ipython3",
   "version": "3.12.6"
  }
 },
 "nbformat": 4,
 "nbformat_minor": 2
}
