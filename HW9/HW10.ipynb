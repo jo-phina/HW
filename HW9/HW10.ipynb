{
 "cells": [
  {
   "cell_type": "markdown",
   "metadata": {},
   "source": [
    "# Homework 10"
   ]
  },
  {
   "cell_type": "markdown",
   "metadata": {},
   "source": [
    "### Ex 1 of 4"
   ]
  },
  {
   "cell_type": "code",
   "execution_count": 1,
   "metadata": {},
   "outputs": [],
   "source": [
    "import numpy as np\n",
    "from skimage import data, color\n",
    "from skimage.transform import resize\n",
    "\n",
    "imgs = np.uint8(data.lfw_subset() * 255)\n",
    "\n",
    "def res_skimage(imgs):\n",
    "    new_size = (imgs[1].shape[0]//2, imgs[1].shape[1]//2)\n",
    "    res_im = []\n",
    "    for im in imgs:\n",
    "        image_resized = resize(im, new_size, anti_aliasing=True)\n",
    "        res_im.append(image_resized)\n",
    "    return np.asarray(res_im)"
   ]
  },
  {
   "cell_type": "markdown",
   "metadata": {},
   "source": [
    "### Ex 2 of 4"
   ]
  },
  {
   "cell_type": "code",
   "execution_count": null,
   "metadata": {},
   "outputs": [],
   "source": [
    "def approximate_pi(n):\n",
    "    pi_2 = 1\n",
    "    nom, den = 2.0, 1.0\n",
    "    for i in range(n):\n",
    "        pi_2 *= nom / den\n",
    "        if i % 2:\n",
    "            nom += 2\n",
    "        else:\n",
    "            den += 2\n",
    "    return 2*pi_2\n",
    "\n",
    "\n",
    "# Data to pass to the above function\n",
    "nums = [1_822_725, 22_059_421, 32_374_695, 88_754_320, 97_162_66, 200_745_654]"
   ]
  }
 ],
 "metadata": {
  "kernelspec": {
   "display_name": ".venv_dsss",
   "language": "python",
   "name": "python3"
  },
  "language_info": {
   "codemirror_mode": {
    "name": "ipython",
    "version": 3
   },
   "file_extension": ".py",
   "mimetype": "text/x-python",
   "name": "python",
   "nbconvert_exporter": "python",
   "pygments_lexer": "ipython3",
   "version": "3.12.6"
  }
 },
 "nbformat": 4,
 "nbformat_minor": 2
}
